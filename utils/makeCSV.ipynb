{
 "cells": [
  {
   "cell_type": "code",
   "execution_count": 33,
   "metadata": {},
   "outputs": [],
   "source": [
    "import os\n",
    "import pandas as pd\n",
    "import random\n",
    "from sklearn.model_selection import train_test_split\n",
    "\n",
    "# Paths (adjust based on your directory structure)\n",
    "malimg_base = \"C:\\\\Users\\\\youssef khaled\\\\Desktop\\\\GP\\\\malimg_dataset\"  # Contains train/, val/, test/\n",
    "benign_path = \"C:\\\\Users\\\\youssef khaled\\\\Desktop\\\\GP\\\\benign_data\\\\benign_imgs\"  # Benign images\n",
    "\n",
    "\n"
   ]
  },
  {
   "cell_type": "code",
   "execution_count": 42,
   "metadata": {},
   "outputs": [],
   "source": [
    "# Initialize DataFrames for splits\n",
    "df_train = pd.DataFrame(columns=['img_code', 'target'])\n",
    "df_val = pd.DataFrame(columns=['img_code', 'target'])\n",
    "df_test = pd.DataFrame(columns=['img_code', 'target'])\n",
    "\n",
    "# Process MALWARE classes from pre-split malimg_dataset\n",
    "for split in ['train', 'val', 'test']:\n",
    "    split_path = os.path.join(malimg_base, split)\n",
    "\n",
    "    # Iterate through all malware class directories in the split\n",
    "    for class_name in os.listdir(split_path):\n",
    "        class_dir = os.path.join(split_path, class_name)\n",
    "\n",
    "        # Get all image paths for this class\n",
    "        images = [os.path.join(class_dir, img) for img in os.listdir(class_dir)]\n",
    "\n",
    "        # Add to the corresponding split DataFrame\n",
    "        temp_df = pd.DataFrame({'img_code': images, 'target': class_name})\n",
    "\n",
    "        if split == 'train':\n",
    "            df_train = pd.concat([df_train, temp_df], ignore_index=True)\n",
    "        elif split == 'val':\n",
    "            df_val = pd.concat([df_val, temp_df], ignore_index=True)\n",
    "        elif split == 'test':\n",
    "            df_test = pd.concat([df_test, temp_df], ignore_index=True)\n",
    "\n",
    "# Process BENIGN class (split into 8:1:1 and add to DataFrames)\n",
    "benign_images = [os.path.join(benign_path, img) for img in os.listdir(benign_path)]\n",
    "random.shuffle(benign_images)  # Shuffle to avoid order bias\n",
    "\n",
    "# Automate splitting using train_test_split\n",
    "# First, split into train (80%) and temp (20%)\n",
    "benign_train, benign_temp = train_test_split(benign_images, train_size=0.8, random_state=42)\n",
    "\n",
    "# Then, split temp into val (50%) and test (50%) to get 10% each\n",
    "benign_val, benign_test = train_test_split(\n",
    "    benign_temp, train_size=0.5, random_state=42)\n",
    "\n",
    "# Add Benign to DataFrames\n",
    "df_train = pd.concat([df_train, pd.DataFrame(\n",
    "    {'img_code': benign_train, 'target': 'Benign'})], ignore_index=True)\n",
    "df_val = pd.concat([df_val, pd.DataFrame(\n",
    "    {'img_code': benign_val, 'target': 'Benign'})], ignore_index=True)\n",
    "df_test = pd.concat([df_test, pd.DataFrame(\n",
    "    {'img_code': benign_test, 'target': 'Benign'})], ignore_index=True)\n",
    "\n",
    "output_dir = \"../CSVs\"\n",
    "\n",
    "df_train.to_csv(os.path.join(\n",
    "    output_dir, \"train_combined_malimg.csv\"), index=False)\n",
    "df_val.to_csv(os.path.join(output_dir, \"val_combined_malimg.csv\"), index=False)\n",
    "df_test.to_csv(os.path.join(\n",
    "    output_dir, \"test_combined_malimg.csv\"), index=False)"
   ]
  }
 ],
 "metadata": {
  "kernelspec": {
   "display_name": "tensorflow_env",
   "language": "python",
   "name": "python3"
  },
  "language_info": {
   "codemirror_mode": {
    "name": "ipython",
    "version": 3
   },
   "file_extension": ".py",
   "mimetype": "text/x-python",
   "name": "python",
   "nbconvert_exporter": "python",
   "pygments_lexer": "ipython3",
   "version": "3.9.21"
  }
 },
 "nbformat": 4,
 "nbformat_minor": 2
}
